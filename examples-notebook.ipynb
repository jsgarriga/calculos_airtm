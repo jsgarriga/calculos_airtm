{
 "cells": [
  {
   "cell_type": "markdown",
   "id": "b29e091d",
   "metadata": {},
   "source": [
    "# Calculadora de Tarifas de Airtm\n",
    "## Notebook con ejemplos"
   ]
  },
  {
   "cell_type": "code",
   "execution_count": 2,
   "id": "2f0392c8",
   "metadata": {},
   "outputs": [],
   "source": [
    "# Importamos el módulo con las funciones\n",
    "from modules import calcs"
   ]
  },
  {
   "cell_type": "code",
   "execution_count": 3,
   "id": "5dd80c26",
   "metadata": {},
   "outputs": [],
   "source": [
    "# Definimos algunas variables\n",
    "tipo_cambio_mercado = 75.0  # Tipo de cambio de mercado\n",
    "tarifa_transferencia = 2.0  # Tarifa de transferencia\n",
    "tarifa_servicio = 0.05  # Tarifa de servicio"
   ]
  },
  {
   "cell_type": "code",
   "execution_count": 5,
   "id": "31578caf",
   "metadata": {},
   "outputs": [
    {
     "name": "stdout",
     "output_type": "stream",
     "text": [
      "Fondos por recibir en retiro mediante banco directo: 714142.8571428572\n"
     ]
    }
   ],
   "source": [
    "# Ejemplo de retiro de fondos mediante banco directo\n",
    "fondos_a_enviar_retirar = 10000.0  # Monto de fondos a enviar para el retiro\n",
    "\n",
    "# Calcular los fondos por recibir\n",
    "fondos_por_recibir_retirar = calcs.calcular_fondos_por_recibir_retirar_banco_directo(fondos_a_enviar_retirar, tipo_cambio_mercado, tarifa_transferencia, tarifa_servicio)\n",
    "\n",
    "# Imprimir el resultado\n",
    "print(\"Fondos por recibir en retiro mediante banco directo:\", fondos_por_recibir_retirar)"
   ]
  },
  {
   "cell_type": "code",
   "execution_count": 6,
   "id": "d08e90c2",
   "metadata": {},
   "outputs": [
    {
     "name": "stdout",
     "output_type": "stream",
     "text": [
      "Fondos a enviar en agregado mediante banco directo: 393900.0\n"
     ]
    }
   ],
   "source": [
    "# Ejemplo de agregar fondos mediante banco directo\n",
    "fondos_por_recibir_agregar = 5000.0  # Monto de fondos por recibir en la cuenta\n",
    "\n",
    "# Calcular los fondos a enviar\n",
    "fondos_a_enviar_agregar = calcs.calcular_fondos_a_enviar_agregar_banco_directo(fondos_por_recibir_agregar, tipo_cambio_mercado, tarifa_transferencia, tarifa_servicio)\n",
    "\n",
    "# Imprimir el resultado\n",
    "print(\"Fondos a enviar en agregado mediante banco directo:\", fondos_a_enviar_agregar)"
   ]
  },
  {
   "cell_type": "code",
   "execution_count": null,
   "id": "dc7673a8",
   "metadata": {},
   "outputs": [],
   "source": []
  }
 ],
 "metadata": {
  "kernelspec": {
   "display_name": "Python 3 (ipykernel)",
   "language": "python",
   "name": "python3"
  },
  "language_info": {
   "codemirror_mode": {
    "name": "ipython",
    "version": 3
   },
   "file_extension": ".py",
   "mimetype": "text/x-python",
   "name": "python",
   "nbconvert_exporter": "python",
   "pygments_lexer": "ipython3",
   "version": "3.8.10"
  }
 },
 "nbformat": 4,
 "nbformat_minor": 5
}
